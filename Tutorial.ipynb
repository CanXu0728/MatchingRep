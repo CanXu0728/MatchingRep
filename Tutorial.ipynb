{
 "cells": [
  {
   "cell_type": "markdown",
   "metadata": {},
   "source": [
    "# Tutorial"
   ]
  },
  {
   "cell_type": "markdown",
   "metadata": {},
   "source": [
    "Here, we introduce how to use the model."
   ]
  },
  {
   "cell_type": "code",
   "execution_count": 1,
   "metadata": {},
   "outputs": [],
   "source": [
    "from matching_rep import MatchingRep\n",
    "import json\n",
    "import numpy as np"
   ]
  },
  {
   "cell_type": "markdown",
   "metadata": {},
   "source": [
    "# Load data"
   ]
  },
  {
   "cell_type": "code",
   "execution_count": 2,
   "metadata": {},
   "outputs": [
    {
     "name": "stdout",
     "output_type": "stream",
     "text": [
      "num feature of patients:  128\n",
      "num feature of organs:  64\n",
      "sample size:  10000\n",
      "training set size:  8000\n"
     ]
    }
   ],
   "source": [
    "with open('./data/gmix.json', 'r', encoding='utf8') as f:\n",
    "    dic = json.loads(f.read())\n",
    "    \n",
    "data = np.array(dic['data'])\n",
    "n_feature_x = dic['n_feature_x']\n",
    "n_feature_o = dic['n_feature_o']\n",
    "\n",
    "# random shuffle data\n",
    "np.random.shuffle(data)\n",
    "\n",
    "# split dataset into training/validation/test sets\n",
    "split = int(data.shape[0]/10)\n",
    "train = data[:-2*split]\n",
    "valid = data[-2*split:-split]\n",
    "test = data[-split:]\n",
    "\n",
    "# split patients/organs/outcomes\n",
    "train_X = train[:, :n_feature_x]\n",
    "train_O = train[:, n_feature_x:-1]\n",
    "train_Y = train[:, -1]\n",
    "\n",
    "valid_X = valid[:, :n_feature_x]\n",
    "valid_O = valid[:, n_feature_x:-1]\n",
    "valid_Y = valid[:, -1]\n",
    "\n",
    "test_X = test[:, :n_feature_x]\n",
    "test_O = test[:, n_feature_x:-1]\n",
    "test_Y = test[:, -1]\n",
    "\n",
    "print('num feature of patients: ', n_feature_x)\n",
    "print('num feature of organs: ', n_feature_o)\n",
    "print('sample size: ', data.shape[0])\n",
    "print('training set size: ', train.shape[0])"
   ]
  },
  {
   "cell_type": "markdown",
   "metadata": {},
   "source": [
    "# Build and Train Model"
   ]
  },
  {
   "cell_type": "code",
   "execution_count": 3,
   "metadata": {},
   "outputs": [
    {
     "name": "stdout",
     "output_type": "stream",
     "text": [
      "start training ==============================\n",
      "pre-training auto-encoder\n",
      "pre-training clusters\n",
      "Reached convergence threshold. Stopping training.\n",
      "start training MatchingRep ====================\n",
      "done ==============================\n"
     ]
    }
   ],
   "source": [
    "# initialize the model\n",
    "model = MatchingRep(n_feature_x, n_feature_o, n_clusters=3)\n",
    "\n",
    "# train the model\n",
    "hist = model.fit([train_X, train_O], train_Y, validation_data=([valid_X, valid_O], valid_Y), batch_size=256, epochs=50, verbose=0)"
   ]
  },
  {
   "cell_type": "markdown",
   "metadata": {},
   "source": [
    "# Evaluate the model"
   ]
  },
  {
   "cell_type": "code",
   "execution_count": 4,
   "metadata": {},
   "outputs": [
    {
     "name": "stdout",
     "output_type": "stream",
     "text": [
      "32/32 [==============================] - 0s 698us/step - loss: 8157.4641\n",
      "mean squared error on test set:  8.979059677753243\n"
     ]
    }
   ],
   "source": [
    "# load the best model from checkpoint\n",
    "model.load_weights(path='./model/MatchingRepCheckpoint')\n",
    "\n",
    "loss = model.evaluate([test_X, test_O], test_Y)\n",
    "print('mean squared error on test set: ', np.log(loss))"
   ]
  },
  {
   "cell_type": "markdown",
   "metadata": {},
   "source": [
    "# Get predictions"
   ]
  },
  {
   "cell_type": "code",
   "execution_count": 5,
   "metadata": {},
   "outputs": [],
   "source": [
    "# load the best model from checkpoint\n",
    "model.load_weights(path='./model/MatchingRepCheckpoint')\n",
    "\n",
    "\n",
    "# predict all potential outcomes of each patient\n",
    "ys_pred = model.predict(test_X)\n",
    "\n",
    "# predict the potential outcome of each patient-organ pair\n",
    "y_pred = model.predict_y([test_X, test_O])\n",
    "\n",
    "# predict soft clustering result of each organ\n",
    "clus = model.predict_clus(test_O)"
   ]
  },
  {
   "cell_type": "markdown",
   "metadata": {},
   "source": [
    "# Perform Allocation"
   ]
  },
  {
   "cell_type": "code",
   "execution_count": 6,
   "metadata": {},
   "outputs": [
    {
     "name": "stdout",
     "output_type": "stream",
     "text": [
      "the organ is allocated to patient  0\n",
      "the estimated survival time is:  923.3725\n"
     ]
    }
   ],
   "source": [
    "idx_o = 0 # a random organ index for test\n",
    "idx = model.allocate_one(test_X, test_O[idx_o])\n",
    "\n",
    "print('the organ is allocated to patient ', idx)\n",
    "print('the estimated survival time is: ', model.predict_y([test_X[idx].reshape((1, -1)), test_O[idx_o].reshape(1, -1)])[0, 0])"
   ]
  },
  {
   "cell_type": "markdown",
   "metadata": {},
   "source": [
    "# Run Allocation Simulation\n",
    "we also provide code for several simulation experiments in our paper"
   ]
  },
  {
   "cell_type": "code",
   "execution_count": 2,
   "metadata": {
    "scrolled": false
   },
   "outputs": [
    {
     "name": "stdout",
     "output_type": "stream",
     "text": [
      "start training ==============================\n",
      "pre-training auto-encoder\n",
      "pre-training clusters\n",
      "Reached convergence threshold. Stopping training.\n",
      "start training MatchingRep ====================\n",
      "done ==============================\n",
      "========== real policy ==========\n",
      "death rate:  0.3522  ( 1761 / 5000 )\n",
      "avg survival time:  470.0432371420486  ( 2350216.185710243 / 5000 )\n",
      "avg benefit:  100.69963076599974  ( 503498.1538299987 / 5000 )\n",
      "==============================\n",
      "========== FCFS policy ==========\n",
      "death rate:  0.3524  ( 1762 / 5000 )\n",
      "avg survival time:  468.64904711881235  ( 2343245.2355940617 / 5000 )\n",
      "avg benefit:  104.00545770729195  ( 520027.2885364598 / 5000 )\n",
      "==============================\n",
      "========== Utility-First policy ==========\n",
      "death rate:  0.3918  ( 1959 / 5000 )\n",
      "avg survival time:  456.49278372631755  ( 2282463.9186315876 / 5000 )\n",
      "avg benefit:  88.58481905684403  ( 442924.0952842201 / 5000 )\n",
      "==============================\n",
      "========== Benefit-First policy ==========\n",
      "death rate:  0.2694  ( 1347 / 5000 )\n",
      "avg survival time:  527.5707664486707  ( 2637853.8322433536 / 5000 )\n",
      "avg benefit:  148.72144473662792  ( 743607.2236831395 / 5000 )\n",
      "==============================\n",
      "========== Matching rep. (FCFS) ==========\n",
      "death rate:  0.2718  ( 1359 / 5000 )\n",
      "avg survival time:  527.1638361923992  ( 2635819.1809619963 / 5000 )\n",
      "avg benefit:  243.05089399658655  ( 1215254.4699829328 / 5000 )\n",
      "----- assignment flip -----\n",
      "flip ratio:  0.4864864864864865\n",
      "type 1 patients avg survival:  924.2854065907474\n",
      "==============================\n"
     ]
    }
   ],
   "source": [
    "from simulation import run_simulation\n",
    "\n",
    "run_simulation(data_path='./data/gmixbiased.json')"
   ]
  },
  {
   "cell_type": "markdown",
   "metadata": {},
   "source": [
    "for detailed instruction, see matcing_rep.py"
   ]
  }
 ],
 "metadata": {
  "kernelspec": {
   "display_name": "Python 3",
   "language": "python",
   "name": "python3"
  },
  "language_info": {
   "codemirror_mode": {
    "name": "ipython",
    "version": 3
   },
   "file_extension": ".py",
   "mimetype": "text/x-python",
   "name": "python",
   "nbconvert_exporter": "python",
   "pygments_lexer": "ipython3",
   "version": "3.8.5"
  },
  "latex_envs": {
   "LaTeX_envs_menu_present": true,
   "autoclose": false,
   "autocomplete": true,
   "bibliofile": "biblio.bib",
   "cite_by": "apalike",
   "current_citInitial": 1,
   "eqLabelWithNumbers": true,
   "eqNumInitial": 1,
   "hotkeys": {
    "equation": "Ctrl-E",
    "itemize": "Ctrl-I"
   },
   "labels_anchors": false,
   "latex_user_defs": false,
   "report_style_numbering": false,
   "user_envs_cfg": false
  },
  "toc": {
   "base_numbering": 1,
   "nav_menu": {},
   "number_sections": true,
   "sideBar": true,
   "skip_h1_title": false,
   "title_cell": "Table of Contents",
   "title_sidebar": "Contents",
   "toc_cell": false,
   "toc_position": {},
   "toc_section_display": true,
   "toc_window_display": false
  },
  "varInspector": {
   "cols": {
    "lenName": 16,
    "lenType": 16,
    "lenVar": 40
   },
   "kernels_config": {
    "python": {
     "delete_cmd_postfix": "",
     "delete_cmd_prefix": "del ",
     "library": "var_list.py",
     "varRefreshCmd": "print(var_dic_list())"
    },
    "r": {
     "delete_cmd_postfix": ") ",
     "delete_cmd_prefix": "rm(",
     "library": "var_list.r",
     "varRefreshCmd": "cat(var_dic_list()) "
    }
   },
   "types_to_exclude": [
    "module",
    "function",
    "builtin_function_or_method",
    "instance",
    "_Feature"
   ],
   "window_display": false
  }
 },
 "nbformat": 4,
 "nbformat_minor": 4
}
